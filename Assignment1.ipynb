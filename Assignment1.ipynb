{
 "cells": [
  {
   "cell_type": "code",
   "execution_count": 11,
   "metadata": {},
   "outputs": [
    {
     "name": "stdout",
     "output_type": "stream",
     "text": [
      "My first program\n",
      "33\n"
     ]
    }
   ],
   "source": [
    "#Task1 p1\n",
    "print('My first program')\n",
    "a=10\n",
    "b=23\n",
    "print(a+b)"
   ]
  },
  {
   "cell_type": "code",
   "execution_count": 2,
   "metadata": {},
   "outputs": [
    {
     "name": "stdout",
     "output_type": "stream",
     "text": [
      "2002,2009,2016,2023,2037,2044,2051,2058,2072,2079,2086,2093,2107,2114,2121,2128,2142,2149,2156,2163,2177,2184,2191,2198,2212,2219,2226,2233,2247,2254,2261,2268,2282,2289,2296,2303,2317,2324,2331,2338,2352,2359,2366,2373,2387,2394,2401,2408,2422,2429,2436,2443,2457,2464,2471,2478,2492,2499,2506,2513,2527,2534,2541,2548,2562,2569,2576,2583,2597,2604,2611,2618,2632,2639,2646,2653,2667,2674,2681,2688,2702,2709,2716,2723,2737,2744,2751,2758,2772,2779,2786,2793,2807,2814,2821,2828,2842,2849,2856,2863,2877,2884,2891,2898,2912,2919,2926,2933,2947,2954,2961,2968,2982,2989,2996,3003,3017,3024,3031,3038,3052,3059,3066,3073,3087,3094,3101,3108,3122,3129,3136,3143,3157,3164,3171,3178,3192,3199\n"
     ]
    }
   ],
   "source": [
    "#Task1 p2\n",
    "start=2000\n",
    "end=3200\n",
    "list=[]\n",
    "while(start!=(end+1)):   #including 2000 and 3200\n",
    "    if(start%7==0 and start%5!=0):\n",
    "        list.append(start)\n",
    "    start+=1    \n",
    "print(*list,sep=',')"
   ]
  },
  {
   "cell_type": "code",
   "execution_count": 3,
   "metadata": {},
   "outputs": [
    {
     "name": "stdout",
     "output_type": "stream",
     "text": [
      "Enter your first nameDeeksha\n",
      "Enter your last nameKotyan\n",
      "Deeksha Kotyan\n",
      "naytoK ahskeeD\n"
     ]
    }
   ],
   "source": [
    "#Task1 p3\n",
    "firstname=input(\"Enter your first name\")\n",
    "lastname=input(\"Enter your last name\")\n",
    "name=firstname+\" \"+ lastname\n",
    "print(name)\n",
    "revname=name[::-1]\n",
    "print(revname)"
   ]
  },
  {
   "cell_type": "code",
   "execution_count": 4,
   "metadata": {},
   "outputs": [
    {
     "name": "stdout",
     "output_type": "stream",
     "text": [
      "Volume of the sphere of diameter 12cm:904.32\n"
     ]
    }
   ],
   "source": [
    "#Task1 P4\n",
    "d=12\n",
    "r=d/2\n",
    "PI=3.14\n",
    "V=(4/3)*PI*(r**3)\n",
    "print(\"Volume of the sphere of diameter 12cm:%.2f\"%(V))#2 decimal point"
   ]
  },
  {
   "cell_type": "code",
   "execution_count": 5,
   "metadata": {},
   "outputs": [
    {
     "name": "stdout",
     "output_type": "stream",
     "text": [
      "Enter the sequence of comma-separated numbers1,2,3\n",
      "[1, 2, 3]\n"
     ]
    }
   ],
   "source": [
    "#Task2 p1\n",
    "num=input(\"Enter the sequence of comma-separated numbers\")\n",
    "lnum=num.split(',')\n",
    "a=[]\n",
    "for i in lnum:    \n",
    "    a.append(int(i))\n",
    "print(a)"
   ]
  },
  {
   "cell_type": "code",
   "execution_count": 7,
   "metadata": {},
   "outputs": [
    {
     "name": "stdout",
     "output_type": "stream",
     "text": [
      "*\n",
      "**\n",
      "***\n",
      "****\n",
      "*****\n",
      "****\n",
      "***\n",
      "**\n",
      "*\n"
     ]
    }
   ],
   "source": [
    "#Task2 p2\n",
    "for i in range(1,6):\n",
    "    a=i*\"*\"\n",
    "    print(a)\n",
    "for i in range(4,0,-1):  \n",
    "    a=i*\"*\"\n",
    "    print(a)"
   ]
  },
  {
   "cell_type": "code",
   "execution_count": 9,
   "metadata": {},
   "outputs": [
    {
     "name": "stdout",
     "output_type": "stream",
     "text": [
      "Input word:AcadGild \n",
      "Output:  dliGdacA\n"
     ]
    }
   ],
   "source": [
    "#Task2 p3\n",
    "word=input('Input word:')\n",
    "rev=word[::-1]\n",
    "print('Output:',rev)"
   ]
  },
  {
   "cell_type": "code",
   "execution_count": 10,
   "metadata": {},
   "outputs": [
    {
     "name": "stdout",
     "output_type": "stream",
     "text": [
      "WE, THE PEOPLE OF INDIA,\n",
      "\t having solemnly resolved to constitute India into a SOVEREIGN,\n",
      "\t\tSOCIALIST, SECULAR, DEMOCRATIC REPUBLIC \n",
      "\t\t and to secure to all its citizens \n"
     ]
    }
   ],
   "source": [
    "#Task2 p4\n",
    "print(\"WE, THE PEOPLE OF INDIA,\\n\\t having solemnly resolved to constitute India into a SOVEREIGN,\\n\\t\\tSOCIALIST, SECULAR, DEMOCRATIC REPUBLIC \\n\\t\\t and to secure to all its citizens \")"
   ]
  },
  {
   "cell_type": "code",
   "execution_count": null,
   "metadata": {},
   "outputs": [],
   "source": []
  }
 ],
 "metadata": {
  "kernelspec": {
   "display_name": "Python 3",
   "language": "python",
   "name": "python3"
  },
  "language_info": {
   "codemirror_mode": {
    "name": "ipython",
    "version": 3
   },
   "file_extension": ".py",
   "mimetype": "text/x-python",
   "name": "python",
   "nbconvert_exporter": "python",
   "pygments_lexer": "ipython3",
   "version": "3.7.1"
  }
 },
 "nbformat": 4,
 "nbformat_minor": 2
}
